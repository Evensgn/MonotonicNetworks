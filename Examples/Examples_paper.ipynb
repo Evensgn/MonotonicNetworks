{
 "cells": [
  {
   "cell_type": "code",
   "execution_count": 1,
   "metadata": {},
   "outputs": [],
   "source": [
    "import torch\n",
    "from matplotlib import pyplot as plt\n",
    "# from tqdm.notebook import tqdm\n",
    "import tqdm\n",
    "from monotonenorm import GroupSort, direct_norm, SigmaNet\n",
    "import os\n",
    "# pip install -e . in the directory with setup.py if you do not have monotonenorm installed\n",
    "plt.style.use('mpl-config')"
   ]
  },
  {
   "cell_type": "markdown",
   "metadata": {},
   "source": [
    "We will make a simple toy regression model to fit the following 1D function $$f(x) = \\log(x) + \\epsilon(x)$$\n",
    "where $\\epsilon$ is a gaussian noise term whose variance is linearly increasing in x. \n",
    "In this toy model we will assume that we have good reason to believe that the function we are trying to fit is monotonic (despite non-monotnic behavior of the noise). For example, we are building a trigger algorithm to discriminate between signal and background events. Rarer events are more likely to be signal and thus we should employ a network which is monotonic in some \"rareness\" feature. Another example could be a hiring classifier where (all else equal) higher school grades should imply better chances of being hired. \n",
    "\n",
    "Now we will fit an unconstrained model and monotonic Lipschitz model."
   ]
  },
  {
   "cell_type": "code",
   "execution_count": 2,
   "metadata": {},
   "outputs": [],
   "source": [
    "class UnconstrainedModel(torch.nn.Module):\n",
    "    def __init__(self):\n",
    "        super().__init__()\n",
    "        self.model = torch.nn.Sequential(\n",
    "    torch.nn.Linear(1, 16),\n",
    "    torch.nn.LazyBatchNorm1d(affine=False),\n",
    "    torch.nn.LeakyReLU(),\n",
    "    torch.nn.Linear(16, 16),\n",
    "    torch.nn.LeakyReLU(),\n",
    "    torch.nn.Linear(16, 16),\n",
    "    torch.nn.LeakyReLU(),\n",
    "    torch.nn.Linear(16, 1),\n",
    ")\n",
    "    def forward(self, x):\n",
    "        return self.model(x)\n",
    "\n",
    "# Build a Lipschitz-1 network\n",
    "class RobustModel(torch.nn.Module):\n",
    "    def __init__(self):\n",
    "        super().__init__()\n",
    "        self.model = torch.nn.Sequential(\n",
    "            direct_norm(torch.nn.Linear(1, 16), kind=\"one-inf\"),\n",
    "            GroupSort(2),\n",
    "            direct_norm(torch.nn.Linear(16, 16), kind=\"inf\"),\n",
    "            GroupSort(2),\n",
    "            direct_norm(torch.nn.Linear(16, 16), kind=\"inf\"),\n",
    "            GroupSort(2),\n",
    "            direct_norm(torch.nn.Linear(16, 1), kind=\"inf\"),\n",
    "        )\n",
    "        for name, param in self.named_parameters():\n",
    "            if 'weight' in name:\n",
    "                if \"model.0\" in name:\n",
    "                    param.data  =  - torch.ones_like(param.data)\n",
    "                else:\n",
    "                    param.data  =  torch.eye(*param.shape) + torch.randn_like(param.data) * 0.001\n",
    "\n",
    "    def forward(self, x):\n",
    "        return self.model(x)"
   ]
  },
  {
   "cell_type": "code",
   "execution_count": 3,
   "metadata": {},
   "outputs": [],
   "source": [
    "# Config\n",
    "EPOCHS = 20000\n",
    "N = 30           # Number of points \n",
    "loss_func = torch.nn.MSELoss()"
   ]
  },
  {
   "cell_type": "code",
   "execution_count": 35,
   "metadata": {},
   "outputs": [],
   "source": [
    "up = False\n",
    "interp = False\n",
    "y_list_fname = f\"y_list_monotonicExample-Up{up}-Interp{interp}.pt\"\n",
    "y_robust_list_fname = f\"y_robust_list_monotonicExample-Up{up}-Interp{interp}.pt\"\n",
    "# simple toy data\n",
    "def gen_data(interp=False, up=False):\n",
    "    # seed = 2 if up else 16 \n",
    "    seed = 20 if up else 18 \n",
    "    torch.manual_seed(seed)\n",
    "    max_range = 3   # Maximum range of x\n",
    "    if interp == False:\n",
    "        x_train = torch.linspace(1, max_range, N).view(-1, 1)\n",
    "    else:\n",
    "        x_train = torch.linspace(1, max_range, N//2).view(-1, 1)\n",
    "        x_train = torch.cat([x_train, torch.linspace(1.5, 2, N//2).view(-1,1) * max_range], dim=0)\n",
    "    true_model = lambda x: torch.log(x)\n",
    "    y_train = true_model(x_train)\n",
    "    # Adding linearly increasing noise\n",
    "    y_error = torch.linspace(0.01, 0.3, N).view(-1, 1) \n",
    "    noise = torch.randn(N).view(-1, 1) * y_error\n",
    "    y_train -= noise\n",
    "\n",
    "    # PLOT DATA\n",
    "    x_linspace = torch.linspace(1, max_range * 2, 2 * N).view(-1, 1)\n",
    "    y_linspace = true_model(x_linspace)\n",
    "    return x_train, y_train, x_linspace, y_linspace, y_error\n",
    "x_train, y_train, x_linspace, y_linspace, y_error = gen_data(interp=interp, up=up)"
   ]
  },
  {
   "cell_type": "code",
   "execution_count": 37,
   "metadata": {},
   "outputs": [
    {
     "name": "stderr",
     "output_type": "stream",
     "text": [
      "/home/kitouni/miniconda3/envs/main/lib/python3.9/site-packages/torch/nn/modules/lazy.py:178: UserWarning: Lazy modules are a new feature under heavy development so changes to the API or functionality can happen at any moment.\n",
      "  warnings.warn('Lazy modules are a new feature under heavy development '\n",
      "epoch: 19999 loss: 0.0061, loss_robust: 0.0111: 100%|██████████| 20000/20000 [00:54<00:00, 369.14it/s]\n"
     ]
    }
   ],
   "source": [
    "y_list = []\n",
    "y_robust_list = []\n",
    "torch.manual_seed(0)\n",
    "for i in range(1):\n",
    "    model = UnconstrainedModel()\n",
    "    monotonic_model = SigmaNet(RobustModel(), 1)\n",
    "    # optim = torch.optim.Adam([{\"params\" : model.parameters()}, {\"params\" : monotonic_model.parameters()}], lr=2e-3)\n",
    "    optim = torch.optim.Adam([{\"params\" : model.parameters()}, {\"params\" : monotonic_model.parameters()}], lr=1e-4)\n",
    "    scheduler = torch.optim.lr_scheduler.OneCycleLR(optim, max_lr=5e-3, total_steps=EPOCHS)\n",
    "\n",
    "    # Train both models at the same time\n",
    "    pbar = tqdm.trange(EPOCHS)\n",
    "    for i in pbar:\n",
    "        y = model(x_train)\n",
    "        y_robust = monotonic_model(x_train)\n",
    "        loss = loss_func(y, y_train)\n",
    "        loss_robust = loss_func(y_robust, y_train)\n",
    "        loss_robust.backward()\n",
    "        loss.backward()\n",
    "        optim.step()\n",
    "        scheduler.step()\n",
    "        optim.zero_grad()\n",
    "        pbar.set_description(\n",
    "            f\"epoch: {i} loss: {loss.item():.4f}, loss_robust: {loss_robust.item():.4f}\")\n",
    "        # Plot results\n",
    "    with torch.no_grad():\n",
    "        model.eval()\n",
    "        y = model(x_linspace)\n",
    "        y_robust = monotonic_model(x_linspace)\n",
    "        y_list.append(y)\n",
    "        y_robust_list.append(y_robust)"
   ]
  },
  {
   "cell_type": "code",
   "execution_count": 38,
   "metadata": {},
   "outputs": [],
   "source": [
    "# save lists\n",
    "import os\n",
    "path = os.path.join(os.getcwd(), \"output\")\n",
    "if not os.path.exists(path):\n",
    "    os.makedirs(path)\n",
    "torch.save(y_list, os.path.join(path, y_list_fname))\n",
    "torch.save(y_robust_list, os.path.join(path, y_robust_list_fname))"
   ]
  },
  {
   "cell_type": "code",
   "execution_count": 39,
   "metadata": {},
   "outputs": [],
   "source": [
    "# load lists\n",
    "up = False\n",
    "interp = False\n",
    "y_list_fname = f\"y_list_monotonicExample-Up{up}-Interp{interp}.pt\"\n",
    "y_robust_list_fname = f\"y_robust_list_monotonicExample-Up{up}-Interp{interp}.pt\"\n",
    "y_list = torch.load(os.path.join(path, y_list_fname))\n",
    "y_robust_list = torch.load(os.path.join(path, y_robust_list_fname))\n",
    "x_train, y_train, x_linspace, y_linspace, y_error = gen_data(interp=interp, up=up)"
   ]
  },
  {
   "cell_type": "code",
   "execution_count": 40,
   "metadata": {},
   "outputs": [
    {
     "name": "stdout",
     "output_type": "stream",
     "text": [
      "Saved /home/kitouni/projects/MonotOneNorm/Examples/output/monotonic_dependence_unobserved_UpFalse_InterpFalse.pdf\n"
     ]
    },
    {
     "data": {
      "image/png": "[encoded data removed]",
      "text/plain": [
       "<Figure size 360x252 with 1 Axes>"
      ]
     },
     "metadata": {},
     "output_type": "display_data"
    }
   ],
   "source": [
    "fig, ax = plt.subplots(1, 1, figsize=(5, 3.5), dpi=200)\n",
    "for y, y_robust in zip(y_list, y_robust_list):\n",
    "    ax.plot(x_linspace.numpy(), y_robust.numpy(), color='C1', alpha=0.1)\n",
    "    ax.plot(x_linspace.numpy(), y.numpy(), color='C2', alpha=0.1)\n",
    "# plot mean\n",
    "ax.plot(x_linspace.numpy(), torch.hstack(y_robust_list).mean(1).numpy(), color='C1', label='Monotonic')\n",
    "ax.plot(x_linspace.numpy(), torch.hstack(y_list).mean(1).numpy(), color='C2', label='Unconstrained')\n",
    "\n",
    "# plt.plot(x_linspace, y_linspace, c='gray',\n",
    "#          linestyle='--', alpha=0.9, label=\"true function\")\n",
    "plt.errorbar(x_train.numpy().flatten(), y_train.numpy().flatten(), \n",
    "    yerr=y_error.numpy().flatten(), fmt='o', c='purple', label='train', alpha=0.5)\n",
    "plt.legend(loc='upper left')\n",
    "ax.set_ylim(-0.5, 2.5)\n",
    "ax.set_xlim(1-0.05,6)\n",
    "if interp:\n",
    "    ax.axvline(3, c='gray', linestyle='--', alpha=0.9)\n",
    "    ax.axvline(4.5, c='gray', linestyle='--', alpha=0.9)\n",
    "    ax.fill_betweenx([-0.5, 2.5], 3, 4.5, color='gray', alpha=0.2)\n",
    "else:\n",
    "    ax.axvline(3, c='gray', linestyle='--', alpha=0.9)\n",
    "    ax.fill_betweenx([-2, 3], 3, 6, color='gray', alpha=0.2)\n",
    "figname = f\"monotonic_dependence_unobserved_Up{up}_Interp{interp}.pdf\"\n",
    "figname = os.path.join(path, figname)\n",
    "plt.tight_layout(pad=0)\n",
    "plt.savefig(figname)\n",
    "print(\"Saved\", figname)\n",
    "plt.show()"
   ]
  },
  {
   "cell_type": "markdown",
   "metadata": {},
   "source": [
    "Now we will make a different toy model with one noisy data point. This will show that the Lipschitz continuous network is more robust against outliers than an unconstrained network because its gradient with respect to the input is bounded between -1 and 1. Additionally, it is more robust against adversarial attacks/data corruption for the same reason."
   ]
  },
  {
   "cell_type": "code",
   "execution_count": 49,
   "metadata": {},
   "outputs": [],
   "source": [
    "def gen_data2():\n",
    "    torch.manual_seed(4)\n",
    "    x_train = torch.linspace(-3, 3, N).view(-1, 1)\n",
    "\n",
    "    y_train_error = torch.ones(N).view(-1, 1) * 0.05\n",
    "    y_train_error[N // 2] = 1\n",
    "    y_train = torch.sin(x_train) + torch.randn(N).view(-1, 1) * y_train_error\n",
    "\n",
    "    # PLOT DATA\n",
    "    x_linspace = torch.linspace(-3, 3, 2 * N).view(-1, 1)\n",
    "    y_linspace = torch.sin(x_linspace)\n",
    "    return x_train, y_train, x_linspace, y_linspace, y_train_error\n",
    "x_train, y_train, x_linspace, y_linspace, y_error = gen_data2()"
   ]
  },
  {
   "cell_type": "code",
   "execution_count": 53,
   "metadata": {},
   "outputs": [
    {
     "data": {
      "application/vnd.jupyter.widget-view+json": {
       "model_id": "e540192e099449e49d39de706a0f8989",
       "version_major": 2,
       "version_minor": 0
      },
      "text/plain": [
       "  0%|          | 0/50000 [00:00<?, ?it/s]"
      ]
     },
     "metadata": {},
     "output_type": "display_data"
    },
    {
     "name": "stderr",
     "output_type": "stream",
     "text": [
      "/home/kitouni/miniconda3/envs/main/lib/python3.9/site-packages/torch/nn/modules/lazy.py:178: UserWarning: Lazy modules are a new feature under heavy development so changes to the API or functionality can happen at any moment.\n",
      "  warnings.warn('Lazy modules are a new feature under heavy development '\n"
     ]
    },
    {
     "data": {
      "application/vnd.jupyter.widget-view+json": {
       "model_id": "a5d3aad5620e4d47aa4a496683df3066",
       "version_major": 2,
       "version_minor": 0
      },
      "text/plain": [
       "  0%|          | 0/50000 [00:00<?, ?it/s]"
      ]
     },
     "metadata": {},
     "output_type": "display_data"
    },
    {
     "data": {
      "application/vnd.jupyter.widget-view+json": {
       "model_id": "de443df7e69e410ab78c32f03a868d60",
       "version_major": 2,
       "version_minor": 0
      },
      "text/plain": [
       "  0%|          | 0/50000 [00:00<?, ?it/s]"
      ]
     },
     "metadata": {},
     "output_type": "display_data"
    },
    {
     "data": {
      "application/vnd.jupyter.widget-view+json": {
       "model_id": "9a5dc08b6f004c588ae488a65162f489",
       "version_major": 2,
       "version_minor": 0
      },
      "text/plain": [
       "  0%|          | 0/50000 [00:00<?, ?it/s]"
      ]
     },
     "metadata": {},
     "output_type": "display_data"
    },
    {
     "data": {
      "application/vnd.jupyter.widget-view+json": {
       "model_id": "2cd298fbb2024975ad43e1079f028ad8",
       "version_major": 2,
       "version_minor": 0
      },
      "text/plain": [
       "  0%|          | 0/50000 [00:00<?, ?it/s]"
      ]
     },
     "metadata": {},
     "output_type": "display_data"
    },
    {
     "data": {
      "application/vnd.jupyter.widget-view+json": {
       "model_id": "21c442014fd24c2da4a3ec3380545ee1",
       "version_major": 2,
       "version_minor": 0
      },
      "text/plain": [
       "  0%|          | 0/50000 [00:00<?, ?it/s]"
      ]
     },
     "metadata": {},
     "output_type": "display_data"
    },
    {
     "data": {
      "application/vnd.jupyter.widget-view+json": {
       "model_id": "dc754b2253794b71ba9c2f3eaedb67c3",
       "version_major": 2,
       "version_minor": 0
      },
      "text/plain": [
       "  0%|          | 0/50000 [00:00<?, ?it/s]"
      ]
     },
     "metadata": {},
     "output_type": "display_data"
    },
    {
     "data": {
      "application/vnd.jupyter.widget-view+json": {
       "model_id": "22aea333f2aa4a2c90c3b119d084c8a7",
       "version_major": 2,
       "version_minor": 0
      },
      "text/plain": [
       "  0%|          | 0/50000 [00:00<?, ?it/s]"
      ]
     },
     "metadata": {},
     "output_type": "display_data"
    },
    {
     "data": {
      "application/vnd.jupyter.widget-view+json": {
       "model_id": "aabda5be52e84377b5f26363eb74e9a6",
       "version_major": 2,
       "version_minor": 0
      },
      "text/plain": [
       "  0%|          | 0/50000 [00:00<?, ?it/s]"
      ]
     },
     "metadata": {},
     "output_type": "display_data"
    },
    {
     "data": {
      "application/vnd.jupyter.widget-view+json": {
       "model_id": "a7394664e89d4f128a4e2cdf7b1e290e",
       "version_major": 2,
       "version_minor": 0
      },
      "text/plain": [
       "  0%|          | 0/50000 [00:00<?, ?it/s]"
      ]
     },
     "metadata": {},
     "output_type": "display_data"
    }
   ],
   "source": [
    "# Now we will make a simple function\n",
    "# Nice seed for the noisy point\n",
    "N = 30\n",
    "EPOCHS = 50000\n",
    "loss_func = torch.nn.L1Loss(reduction='none')\n",
    "\n",
    "\n",
    "\n",
    "y_list = []\n",
    "y_robust_list = []\n",
    "for _ in range(10):\n",
    "    pbar = tqdm(range(EPOCHS))\n",
    "    model = UnconstrainedModel()\n",
    "    robust_model = RobustModel()\n",
    "    optim = torch.optim.Adam([{\"params\" : model.parameters()}, {\"params\" : robust_model.parameters()}], lr=1e-3, weight_decay=1e-3)\n",
    "    scheduler = torch.optim.lr_scheduler.OneCycleLR(optim, max_lr=5e-3, total_steps=EPOCHS)\n",
    "    for i in pbar:\n",
    "        # batch_indices = torch.randint(0, N, (32, )) \n",
    "        # x_batch = x_train[batch_indices]\n",
    "        # y_batch = y_train[batch_indices]\n",
    "        y = model(x_train)\n",
    "        y_robust = robust_model(x_train)\n",
    "        loss = torch.mean(loss_func(y, y_train))\n",
    "        loss_robust = torch.mean(loss_func(y_robust, y_train))# * weights_batch)\n",
    "        loss_robust.backward()\n",
    "        loss.backward()\n",
    "        optim.step()\n",
    "        scheduler.step()\n",
    "        optim.zero_grad()\n",
    "        pbar.set_description(\n",
    "            f\"epoch: {i} loss: {loss.item():.4f}, loss_robust: {loss_robust.item():.4f}\")\n",
    "\n",
    "    with torch.no_grad():\n",
    "        y = model(x_linspace)\n",
    "        y_robust = robust_model(x_linspace)\n",
    "        y_list.append(y)\n",
    "        y_robust_list.append(y_robust)\n",
    "# save lists\n",
    "torch.save(y_list, \"y_list_robustExample.pt\")\n",
    "torch.save(y_robust_list, \"y_robust_list_robustExample.pt\")"
   ]
  },
  {
   "cell_type": "code",
   "execution_count": 54,
   "metadata": {},
   "outputs": [
    {
     "name": "stdout",
     "output_type": "stream",
     "text": [
      "Saved robust_against_noisy_outlier_3.pdf\n"
     ]
    },
    {
     "data": {
      "image/png": "[encoded data removed]",
      "text/plain": [
       "<Figure size 504x360 with 1 Axes>"
      ]
     },
     "metadata": {},
     "output_type": "display_data"
    }
   ],
   "source": [
    "# load lists\n",
    "y_list = torch.load(\"y_list_robustExample.pt\")\n",
    "y_robust_list = torch.load(\"y_robust_list_robustExample.pt\")\n",
    "\n",
    "fig, ax = plt.subplots(1, 1, figsize=(7, 5))\n",
    "plt.errorbar(x_train.numpy().flatten(), y_train.numpy().flatten(), yerr=y_error.numpy().flatten(), fmt='o', c='purple', label='train')\n",
    "for y, y_robust in zip(y_list, y_robust_list):\n",
    "    ax.plot(x_linspace.numpy(), y_robust.numpy(), color='C1', alpha=0.1)\n",
    "    ax.plot(x_linspace.numpy(), y.numpy(), color='C2', alpha=0.1)\n",
    "# plot mean\n",
    "ax.plot(x_linspace.numpy(), torch.hstack(y_robust_list).mean(1).numpy(), color='C1', label='Robust')\n",
    "ax.plot(x_linspace.numpy(), torch.hstack(y_list).mean(1).numpy(), color='C2', label='Unconstrained')\n",
    "\n",
    "# plt.plot(x_linspace, y_linspace, c='gray',\n",
    "        #  linestyle='--', alpha=0.9, label=\"true function\")\n",
    "plt.legend()\n",
    "figname = \"robust_against_noisy_outlier_3.pdf\"\n",
    "plt.ylim(-2, 1.2)\n",
    "plt.tight_layout(pad=0)\n",
    "plt.savefig(figname)\n",
    "print(\"Saved\", figname)\n",
    "plt.show()"
   ]
  },
  {
   "cell_type": "code",
   "execution_count": null,
   "metadata": {},
   "outputs": [],
   "source": []
  },
  {
   "cell_type": "code",
   "execution_count": null,
   "metadata": {},
   "outputs": [],
   "source": []
  }
 ],
 "metadata": {
  "kernelspec": {
   "display_name": "Python 3.9.12 ('main')",
   "language": "python",
   "name": "python3"
  },
  "language_info": {
   "codemirror_mode": {
    "name": "ipython",
    "version": 3
   },
   "file_extension": ".py",
   "mimetype": "text/x-python",
   "name": "python",
   "nbconvert_exporter": "python",
   "pygments_lexer": "ipython3",
   "version": "3.9.12"
  },
  "orig_nbformat": 4,
  "vscode": {
   "interpreter": {
    "hash": "1d57e5d6bf9feb93d751da48b3322cce599fe4781d036e1a5603ac4d4b53d3fd"
   }
  }
 },
 "nbformat": 4,
 "nbformat_minor": 2
}
